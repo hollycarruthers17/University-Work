{
  "cells": [
    {
      "cell_type": "markdown",
      "metadata": {},
      "source": [
        "# ECON3030 - Autumn 2022\n",
        "## Dr Juan Ignacio Vizcaino"
      ]
    },
    {
      "cell_type": "markdown",
      "metadata": {},
      "source": [
        "# Root Finding Examples"
      ]
    },
    {
      "cell_type": "markdown",
      "metadata": {},
      "source": [
        "Use the $fsolve$ function from $SciPy$ to compute the root of $f(x) = cos(x)−x$ near $−2$.\n",
        "Verify that the solution is a root (or close enough)."
      ]
    },
    {
      "cell_type": "code",
      "execution_count": 3,
      "metadata": {
        "trusted": true
      },
      "outputs": [
        {
          "name": "stdout",
          "output_type": "stream",
          "text": [
            "r = [0.73908513]\n"
          ]
        }
      ],
      "source": [
        "import numpy as np \n",
        "from scipy import optimize \n",
        "\n",
        "f = lambda x: np.cos(x) - x \n",
        "r = optimize.fsolve(f, -2) \n",
        "print(\"r =\", r)"
      ]
    },
    {
      "cell_type": "markdown",
      "metadata": {},
      "source": [
        "Verify the solution is a root $ result = f(r) $ "
      ]
    },
    {
      "cell_type": "code",
      "execution_count": 10,
      "metadata": {
        "trusted": true
      },
      "outputs": [
        {
          "name": "stdout",
          "output_type": "stream",
          "text": [
            "result= [0.73908513]\n"
          ]
        }
      ],
      "source": [
        "print(\"result=\",r) "
      ]
    },
    {
      "cell_type": "markdown",
      "metadata": {},
      "source": [
        "The function $f(x) = 1/x$ has no root. \n",
        "Use the fsolve function to try to compute the root of $f(x) = 1/x$."
      ]
    },
    {
      "cell_type": "code",
      "execution_count": 12,
      "metadata": {
        "trusted": true
      },
      "outputs": [
        {
          "name": "stdout",
          "output_type": "stream",
          "text": [
            "r = [-3.52047359e+83]\n"
          ]
        }
      ],
      "source": [
        "f = lambda x: 1/x \n",
        "\n",
        "r, infodict, ier, mesg = optimize.fsolve(f, -2, full_output=True) \n",
        "print(\"r =\", r) \n",
        "result = f(r) "
      ]
    },
    {
      "cell_type": "code",
      "execution_count": 14,
      "metadata": {
        "trusted": true
      },
      "outputs": [
        {
          "name": "stdout",
          "output_type": "stream",
          "text": [
            "result= [-2.84052692e-84]\n",
            "The number of calls to function has reached maxfev = 400.\n"
          ]
        }
      ],
      "source": [
        "print(\"result=\", result) \n",
        "print(mesg) "
      ]
    },
    {
      "cell_type": "markdown",
      "metadata": {},
      "source": [
        "### Bisection Method"
      ]
    },
    {
      "cell_type": "markdown",
      "metadata": {},
      "source": [
        "Program a function $ \\text{my_bisection}(f,a,b,tol)$ that approximates a root $r$ of $f$, bounded by $a$ and $b$ to within $| f( (a+b)/2 )| < tol$."
      ]
    },
    {
      "cell_type": "code",
      "execution_count": 27,
      "metadata": {
        "trusted": true
      },
      "outputs": [],
      "source": [
        "import numpy as np \n",
        "import matplotlib.pyplot as plt"
      ]
    },
    {
      "cell_type": "code",
      "execution_count": 28,
      "metadata": {
        "trusted": true
      },
      "outputs": [],
      "source": [
        "# approximates a root, R, of f bounded by a and b to within tolerance | f(m) | < tol with m being the midpoint between a and b. \n",
        "#Recursive implementation \n",
        "def my_bisection(f, a, b, tol):\n",
        "    if np.sign(f(a)) == np.sign(f(b)):\n",
        "        raise Exception(\"The scalars a and b do not bound a root\")\n",
        "    # get midpoint\n",
        "    m = (a + b)/2\n",
        "    if np.abs(f(m)) < tol:    #stopping condition, report m as root\n",
        "        return m\n",
        "    elif np.sign(f(a)) == np.sign(f(m)):  #case where m is an improvement on a. Make recursive call with a = m\n",
        "        return my_bisection(f, m, b, tol)\n",
        "    elif np.sign(f(b)) == np.sign(f(m)):  #case where m is an improvement on b. Make recursive call with b = m\n",
        "        return my_bisection(f, a, m, tol)"
      ]
    },
    {
      "cell_type": "markdown",
      "metadata": {},
      "source": [
        "The $\\sqrt 2$ can be computed as the the root of the function $f(x) = x^{2}−2$. Starting at $a=0$ and $b=2$, use $\\text{my_bisection}$ to approximate $\\sqrt 2$\n",
        "to a tolerance $|f(x)| < 0.1$ and $|f(x)| < 0.01$.\n",
        "Verify that the results are close to a root by plugging the root back into the function."
      ]
    },
    {
      "cell_type": "code",
      "execution_count": 29,
      "metadata": {
        "trusted": true
      },
      "outputs": [],
      "source": [
        "f = lambda x: x**2 - 2\n",
        "x1 = np.linspace(0,3,50)"
      ]
    },
    {
      "cell_type": "code",
      "execution_count": 30,
      "metadata": {
        "trusted": true
      },
      "outputs": [
        {
          "data": {
            "image/png": "[encoded data removed]",
            "text/plain": [
              "<pyolite.display.Image at 0x5853a90>"
            ]
          },
          "metadata": {},
          "output_type": "display_data"
        }
      ],
      "source": [
        "plt.plot(x1,f(x1))\n",
        "plt.xlabel(\"x\")\n",
        "plt.ylabel(\"x^2 - 2\")\n",
        "plt.show()"
      ]
    },
    {
      "cell_type": "code",
      "execution_count": 31,
      "metadata": {
        "trusted": true
      },
      "outputs": [
        {
          "ename": "<class 'Exception'>",
          "evalue": "The scalars a and b do not bound a root",
          "output_type": "error",
          "traceback": [
            "\u001b[0;31m---------------------------------------------------------------------------\u001b[0m",
            "\u001b[0;31mException\u001b[0m                                 Traceback (most recent call last)",
            "Cell \u001b[0;32mIn [31], line 1\u001b[0m\n\u001b[0;32m----> 1\u001b[0m r1 \u001b[38;5;241m=\u001b[39m \u001b[43mmy_bisection\u001b[49m\u001b[43m(\u001b[49m\u001b[43mf\u001b[49m\u001b[43m,\u001b[49m\u001b[43m \u001b[49m\u001b[38;5;241;43m0\u001b[39;49m\u001b[43m,\u001b[49m\u001b[43m \u001b[49m\u001b[38;5;241;43m1\u001b[39;49m\u001b[43m,\u001b[49m\u001b[43m \u001b[49m\u001b[38;5;241;43m0.1\u001b[39;49m\u001b[43m)\u001b[49m\n\u001b[1;32m      2\u001b[0m \u001b[38;5;28mprint\u001b[39m(\u001b[38;5;124m\"\u001b[39m\u001b[38;5;124mr1 =\u001b[39m\u001b[38;5;124m\"\u001b[39m, r1)\n",
            "Cell \u001b[0;32mIn [28], line 5\u001b[0m, in \u001b[0;36mmy_bisection\u001b[0;34m(f, a, b, tol)\u001b[0m\n\u001b[1;32m      3\u001b[0m \u001b[38;5;28;01mdef\u001b[39;00m \u001b[38;5;21mmy_bisection\u001b[39m(f, a, b, tol):\n\u001b[1;32m      4\u001b[0m     \u001b[38;5;28;01mif\u001b[39;00m np\u001b[38;5;241m.\u001b[39msign(f(a)) \u001b[38;5;241m==\u001b[39m np\u001b[38;5;241m.\u001b[39msign(f(b)):\n\u001b[0;32m----> 5\u001b[0m         \u001b[38;5;28;01mraise\u001b[39;00m \u001b[38;5;167;01mException\u001b[39;00m(\u001b[38;5;124m\"\u001b[39m\u001b[38;5;124mThe scalars a and b do not bound a root\u001b[39m\u001b[38;5;124m\"\u001b[39m)\n\u001b[1;32m      6\u001b[0m     \u001b[38;5;66;03m# get midpoint\u001b[39;00m\n\u001b[1;32m      7\u001b[0m     m \u001b[38;5;241m=\u001b[39m (a \u001b[38;5;241m+\u001b[39m b)\u001b[38;5;241m/\u001b[39m\u001b[38;5;241m2\u001b[39m\n",
            "\u001b[0;31mException\u001b[0m: The scalars a and b do not bound a root"
          ]
        }
      ],
      "source": [
        "r1 = my_bisection(f, 0, 1, 0.1)\n",
        "print(\"r1 =\", r1)"
      ]
    },
    {
      "cell_type": "code",
      "execution_count": 32,
      "metadata": {
        "trusted": true
      },
      "outputs": [
        {
          "name": "stdout",
          "output_type": "stream",
          "text": [
            "r2 = 1.40625\n"
          ]
        }
      ],
      "source": [
        "r2 = my_bisection(f, 0, 3, 0.1)\n",
        "print(\"r2 =\", r2)"
      ]
    },
    {
      "cell_type": "code",
      "execution_count": 33,
      "metadata": {
        "trusted": true
      },
      "outputs": [
        {
          "name": "stdout",
          "output_type": "stream",
          "text": [
            "r3 = 1.412109375\n",
            "f(r3) = -0.005947113037109375\n",
            "f(r2) = -0.0224609375\n"
          ]
        }
      ],
      "source": [
        "r3 = my_bisection(f, 0, 3, 0.01)\n",
        "print(\"r3 =\", r3)\n",
        "print(\"f(r3) =\", f(r3))\n",
        "print(\"f(r2) =\", f(r2))"
      ]
    },
    {
      "cell_type": "markdown",
      "metadata": {},
      "source": [
        "### Newton-Raphson Method"
      ]
    },
    {
      "cell_type": "markdown",
      "metadata": {},
      "source": [
        "Again, the $\\sqrt 2$ is the root of the function $f(x) = x^{2}−2$. Using $x_{0} = 1.4$  as a starting point, use the previous equation to estimate $\\sqrt 2$.\n",
        "Compare this approximation with the value computed by Python’s sqrt function."
      ]
    },
    {
      "cell_type": "code",
      "execution_count": 34,
      "metadata": {
        "trusted": true
      },
      "outputs": [],
      "source": [
        "import numpy as np\n",
        "f = lambda x: x**2 - 2\n",
        "f_prime = lambda x: 2*x\n",
        "newton_raphson = 1.4 - (f(1.4))/(f_prime(1.4))"
      ]
    },
    {
      "cell_type": "code",
      "execution_count": 35,
      "metadata": {
        "trusted": true
      },
      "outputs": [
        {
          "name": "stdout",
          "output_type": "stream",
          "text": [
            "newton_raphson = 1.4142857142857144\n",
            "sqrt(2) = 1.4142135623730951\n"
          ]
        }
      ],
      "source": [
        "print(\"newton_raphson =\", newton_raphson)\n",
        "print(\"sqrt(2) =\", np.sqrt(2))"
      ]
    },
    {
      "cell_type": "markdown",
      "metadata": {},
      "source": [
        "### Root Finding in Python"
      ]
    },
    {
      "cell_type": "markdown",
      "metadata": {},
      "source": [
        "Compute the root of the function $f(x) = x^{3}−100x^{2} − x +100$ using f_solve."
      ]
    },
    {
      "cell_type": "code",
      "execution_count": null,
      "metadata": {},
      "outputs": [],
      "source": [
        "from scipy.optimize import fsolve \n",
        "f = lambda x: x**3-100*x**2-x+100 \n",
        "fsolve(f, [2, 80])"
      ]
    }
  ],
  "metadata": {
    "kernelspec": {
      "display_name": "Python 3.9.12 ('base')",
      "language": "python",
      "name": "python3"
    },
    "language_info": {
      "codemirror_mode": {
        "name": "python",
        "version": 3
      },
      "file_extension": ".py",
      "mimetype": "text/x-python",
      "name": "python",
      "nbconvert_exporter": "python",
      "pygments_lexer": "ipython3",
      "version": "3.9.12 (main, Apr  5 2022, 01:53:17) \n[Clang 12.0.0 ]"
    },
    "vscode": {
      "interpreter": {
        "hash": "07503714765c1be895f5ccbb4166e810492a3f989b78852fd19d9f8c5b9380d5"
      }
    }
  },
  "nbformat": 4,
  "nbformat_minor": 4
}
